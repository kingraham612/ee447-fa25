{
 "cells": [
  {
   "cell_type": "markdown",
   "id": "4ef70ede-addf-49b2-8fcf-5684ed77e5c4",
   "metadata": {},
   "source": [
    "# Exam 1 due 5p Fri Oct 31 2025\n",
    " \n",
    "Submit this file to Canvas as a PDF or HTML before Fri Oct 31, 2025 at 5:00pm to earn **+1 bonus points**. Extended deadline Sun Nov 2, 2025 at 11:59 pm for +0 bonus points. \n",
    "\n",
    "* You are **not** permitted to discuss this exam with anyone besides the TA and professor. \n",
    "* You are welcome to use analytical and numerical computational tools (including generative AI like LLM); if you do, include the **commented** sourcecode (or prompts) in your submission.\n",
    "* You are welcome to consult websites, textbooks, and other materials; if you do, include a full citation in your writeup (e.g. the .pdf and/or .html file).\n",
    "\n",
    "This exam is worth a total of **38 points**. Each subproblem is worth 2 points. Exams will be graded on a 0-1-2 grading scale: 0 for no attempt; 1 for an incorrect attempt; 2 for a correct attempt (with partially-correct attempts possibly receiving between 1 and 2). \n",
    "\n",
    "**Accessibility Note:** This exam contains many embedded figures that do not have alt text. If you have any trouble distinguishing important features of these figures (due to color or lack of alt text, etc.) and require any modifications to improve the figures' accessibility, please reach out to Prof. Ingraham. "
   ]
  },
  {
   "cell_type": "markdown",
   "id": "6301cab8-49a1-4026-9cce-40c20f06a395",
   "metadata": {},
   "source": [
    "# problem 1 - feedforward + feedback control block diagram (4 points)\n",
    "\n",
    "![problem1](25fa_exam1_figures/blockDiagram1.png)\n",
    "\n",
    "Consider the block diagram above, which shows a combination of feedforward and feedback control. Signal $r$ is reference, $y$ is output, $v$ is disturbance, $u$ is control signal, and $e$ is error. Block $B(s)$ is the feedBack controller, $P(s)$ is the process, $F(s)$ is the feedForward controller, and $D(s)$ is the disturbance model. "
   ]
  },
  {
   "cell_type": "markdown",
   "id": "032c9334-91e7-4028-abaa-2c241e2b795a",
   "metadata": {},
   "source": [
    "## subproblem 1a\n",
    "Find the closed-loop transfer function $G_{yv}$ for this system, that is, the transfer function from disturbance $v$ to output $y$. "
   ]
  },
  {
   "cell_type": "markdown",
   "id": "b2dc2714-af63-49cb-bf1c-b33569b4c5f4",
   "metadata": {},
   "source": [
    "## subproblem 1b\n",
    "For this subproblem, use the following definitions:  \n",
    "$$ B(s) = 3, \\quad P(s) = \\cfrac{1}{s+5}, \\quad F(s) = \\cfrac{s+6}{2}, \\quad D(s) = 1 $$\n",
    "\n",
    "For a constant disturbance $v(t) = v_0$, what is the steady-state output $y_0$ for the system? Recall that the steady-state output of the system is defined as $y(t)$ as $t \\rightarrow \\infty$. "
   ]
  },
  {
   "cell_type": "markdown",
   "id": "5dff3271-8981-4c9b-96b4-fdc05b6b6df1",
   "metadata": {},
   "source": [
    "# problem 2 - transfer function and linear state space (4 points)\n",
    "\n",
    "![problem2](25fa_exam1_figures/flywheels.png)\n",
    "\n",
    "Consider the physical system above. One flywheel (with moment of inertia $J_1$) is attached to an ummoving wall by a flexible rod with spring constant $k$ and has an applied torque, $\\tau$.  A second flywheel (with moment of inertia $J_2$) is driven by friction between the two flywheels with damping coefficient $b_1$.  The second flywheel also has friction between it and the ground, with damping coefficient $b_2$. The angle of each flywheel is designated $\\theta_1$ and $\\theta_2$. Your Mechanical Engineering colleague (correctly) derives the following equations of motion for this system: \n",
    "\n",
    "$$J_1 \\ddot{\\theta}_1 + b_1 (\\dot{\\theta}_1 - \\dot{\\theta}_2) + k \\theta_1  = - \\tau \\qquad (1)$$\n",
    "$$J_2 \\ddot{\\theta}_2 - b_1 \\dot{\\theta}_1 + (b_1 + b_2) \\dot{\\theta_2} = 0 \\qquad (2) $$ \n"
   ]
  },
  {
   "cell_type": "markdown",
   "id": "aea68415-540c-4916-9fee-b37c45e90669",
   "metadata": {},
   "source": [
    "## subproblem 2a\n",
    "Derive the **transfer function** for this system from applied torque $\\tau$ to output position $\\theta_2$. That is, find $G_{\\theta_2 \\tau} = \\frac{\\Theta_2(s)}{T(s)}$. Your solution should be in terms of variable $s$ and constants $J_1, J_2, b_1, b_2,$ and $k$. Assume all initial conditions are zero. \n",
    "\n",
    "**Note**: You do not need to expand your polynomial expressions completely in the final answer. Please write your solution as a product of lower order polynomials. Simplify your answer until you have an expression that is the product of one set of polynomials over the product of another set of polynomials, such as $\\frac{(s+2)(s+1)}{(s^2 + s + 1)(s^2 + s +1)}.$ This note is only showing you the *form* your answer should appear in, and contains no information about how many polynomial expressions appear in numerator or denominator or their order. "
   ]
  },
  {
   "cell_type": "markdown",
   "id": "f5073e6f-2486-46c6-813c-4731c600b38e",
   "metadata": {},
   "source": [
    "## subproblem 2b\n",
    "Write the equations of motion for this system in **linear state space form** using state vector $x = (\\theta_1, \\dot{\\theta}_1, \\theta_2, \\dot{\\theta}_2) \\in \\mathbb{R}^4$ and input $u = \\tau \\in \\mathbb{R}$."
   ]
  },
  {
   "cell_type": "markdown",
   "id": "48bed4e5-5632-4f79-a0c3-fa75e1cae05a",
   "metadata": {},
   "source": [
    "# problem 3 - nonlinear phase portraits (8 points)\n",
    "\n",
    "![problem3](25fa_exam1_figures/phasePortraits.png)\n",
    "\n",
    "Examine the phase portraits on the left, labeled $(3a)$, $(3b)$, $(3c)$, and $(3d)$. Then, match the blue time series trajectories on the right (labeled $A, B, C,$ and $D$) to the blue state-space trajectories highlighted on each phase portrait. Explain your rationale for each choice. What features of the trajectories did you use to make your decision? \n",
    "\n",
    "**Note:** To earn full credit for each subproblem, you need to indicate which time series trajectory $A-D$ corresponds with each phase portrait $(3a)-(3d)$ and justify your answer in words and/or legible annotations on the graph. "
   ]
  },
  {
   "cell_type": "markdown",
   "id": "ebc6d4ce-abd5-4f73-923c-644836ac69ab",
   "metadata": {},
   "source": [
    "# problem 4 - linearization (8 points)\n",
    "\n",
    "A dc-to-dc power converter can be modeled by the nonlinear state space model: \n",
    "$$ \n",
    "\\dot{x} = \\begin{bmatrix} \\dot{x}_1 \\\\ \\dot{x}_2 \\end{bmatrix} = \n",
    "\\begin{bmatrix}\n",
    "-\\dfrac{1}{k}x_2 + (x_2 + k)u \\\\[6pt]\n",
    "\\dfrac{1}{k}x_1 - \\alpha x_2 - (x_1 + \\alpha k^2)u\n",
    "\\end{bmatrix} = f(x,u)\n",
    "$$\n",
    "\n",
    "For this system, $x = \\begin{bmatrix} x_1 \\\\ x_2 \\end{bmatrix} \\in \\mathbb{R}^2$ is the state vector, $u \\in \\mathbb{R}$ is the input, and $k$ and $\\alpha$ are positive constants. "
   ]
  },
  {
   "cell_type": "markdown",
   "id": "85c7c171-663d-4857-9868-d2104a553e13",
   "metadata": {},
   "source": [
    "## subproblem 4a\n",
    "Show that this system has an equilibrium point at $x_e = \\begin{bmatrix} 0 \\\\ 0 \\end{bmatrix}$ and $u_e = 0$. "
   ]
  },
  {
   "cell_type": "markdown",
   "id": "16ffc87e-32db-4c3e-91fc-da0cc826f3ab",
   "metadata": {},
   "source": [
    "## subproblem 4b\n",
    "\n",
    "Linearize the system about the equilibrium point $x_e = \\begin{bmatrix} 0 \\\\ 0 \\end{bmatrix}$ and $u_e = 0$.\n",
    "\n",
    "Write your final linearized system in the form $\\delta \\dot{x} = A \\delta x + B \\delta u$. Make sure you write a vector or matrix expression for $A$, $B$, $\\delta x$, and $\\delta u$ each term to earn full credit. \n",
    "\n",
    "**Hint:** Recall that in this form, the A and B matrices are the *Jacobian* matrices."
   ]
  },
  {
   "cell_type": "markdown",
   "id": "c5312442-56a1-4363-8189-5eda5a9c174a",
   "metadata": {},
   "source": [
    "## subproblem 4c\n",
    "Your task in this subproblem is to simulate the response of the dc-to-dc power converter to a unit step input (that is, $u(t)=1$ for all $t>0$). You will simulate the response of (1) the linearized system, and (2) the full nonlinear system.  \n",
    "\n",
    "You have been provided with a code skeleton below that is modified from the *447_tutorial_numerical_simulation.ipynb* notebook. \n",
    "\n",
    "To complete this subproblem, you should: \n",
    "\n",
    "**(1)** Add code to the section labeled \"MODIFY THE CODE HERE TO SIMULATE THE LINEAR SYSTEM\" and define the following: \n",
    "* A =\n",
    "* B =\n",
    "* dx_dt =\n",
    "  \n",
    "To ensure that you can complete this problem regardless if you correctly solved subproblem 4b, please use:\n",
    "$$ A = \\begin{bmatrix} 0 & -1 \\\\ 1 & -2 \\end{bmatrix}, \\qquad B = \\begin{bmatrix} 1 \\\\ -2 \\end{bmatrix} $$\n",
    "\n",
    "**(2)** Add code to the section labeled \"MODIFY THE CODE HERE TO SIMULATE THE NON-LINEAR SYSTEM\" and define the following: \n",
    "* dx_dt_NL =\n",
    "\n",
    "You should not need to modify the code any further than adding these four lines. When you've successfully implemented the code, your final plot should look like this: \n",
    "\n",
    "\n",
    "![problem4](25fa_exam1_figures/simulationResults.png)"
   ]
  },
  {
   "cell_type": "code",
   "execution_count": null,
   "id": "b709e004-8125-4d72-950b-cef7b780a663",
   "metadata": {},
   "outputs": [],
   "source": [
    "### code skeleton for subproblem 4c\n",
    "import numpy as np\n",
    "import matplotlib.style as style\n",
    "style.use('tableau-colorblind10')\n",
    "\n",
    "# System parameters\n",
    "k = 1.0\n",
    "a = 2.0 \n",
    "\n",
    "# Time parameters\n",
    "dt = 0.01  # Time step\n",
    "T = 2     # Total simulation time\n",
    "N = int(T/dt) # Number of data points in simulation\n",
    "t = np.linspace(0, T, N) # Time vector\n",
    "\n",
    "# Define initial conditions\n",
    "x0 = np.array([0,0])\n",
    "\n",
    "# Input vector \n",
    "u = np.array([np.ones(N)])\n",
    "\n",
    "# Forward simulation\n",
    "def simulate_DE(dt, x0, u):\n",
    "    \n",
    "    # Initialize state arrays\n",
    "    x = np.array([np.zeros(N), np.zeros(N)])\n",
    "    x_NL = np.array([np.zeros(N),np.zeros(N)])\n",
    "    \n",
    "    # specify initial conditions\n",
    "    x[:,0] = x0\n",
    "    x_NL[:,0] = x0\n",
    "\n",
    "    # Euler integration\n",
    "    for i in range(1, N):\n",
    "        # Define current state vector (we are creating two -- one linear, one nonlinear)\n",
    "        x_vec = x[:,i-1]\n",
    "        x_vec_NL = x_NL[:,i-1]\n",
    "    \n",
    "        # Reference vector\n",
    "        u_vec = u[:,i-1]\n",
    "\n",
    "        ############ MODIFY THE CODE HERE TO SIMULATE THE LINEAR SYSTEM ##############\n",
    "        # Define A matrix (2x2 matrix)\n",
    "        A = \n",
    "\n",
    "        # Define B matrix (2x1 matrix)\n",
    "        B = \n",
    "        \n",
    "        # Compute derivative of state vector using linear system\n",
    "        ## Hint: use x = x_vec, u = u_vec\n",
    "        dx_dt = \n",
    "\n",
    "        ############ MODIFY THE CODE HERE TO SIMULATE THE NON-LINEAR SYSTEM ##########\n",
    "        # Compute derivative of state vector using non-linear system\n",
    "        ## Hint: use x1 = x_vec[0], x2 = x_vec[1], u = u_vec[0] \n",
    "        ## Hint: dx_dt_NL should be a 2x1 vector\n",
    "        \n",
    "        dx_dt_NL = \n",
    "        \n",
    "        ###############################################\n",
    "        \n",
    "        # Update state using Euler's method - the next state equals the current state x + dx\n",
    "        x_next = x_vec + dx_dt * dt\n",
    "        x_next_NL = x_vec_NL + dx_dt_NL * dt\n",
    "    \n",
    "        # Store the results\n",
    "        x[:,i] = x_next\n",
    "        x_NL[:,i] = x_next_NL\n",
    "    \n",
    "    return x, x_NL # we return vectors that have been populated with our dynamical simulation\n",
    "\n",
    "x, x_NL = simulate_DE(dt,x0,u)\n",
    "\n",
    "# Plot the results\n",
    "plt.figure()\n",
    "plt.plot(t, x[0], label='x1 - linear')\n",
    "plt.plot(t, x[1], label='x2 - linear')\n",
    "plt.plot(t, x_NL[0],'--',label='x1 - nonlinear')\n",
    "plt.plot(t, x_NL[1],'--', label='x2 - nonlinear')\n",
    "plt.xlabel('Time [s]')\n",
    "plt.ylabel('State')\n",
    "plt.title('Response to Step Input, x0 = (0,0)')\n",
    "plt.xlim(0,2)\n",
    "plt.ylim(-8,5)\n",
    "plt.legend(loc=\"lower left\")\n",
    "plt.grid()\n",
    "plt.show()"
   ]
  },
  {
   "cell_type": "markdown",
   "id": "a041acca-29f6-4d6e-9533-8eca0eb8fa6c",
   "metadata": {},
   "source": [
    "## subproblem 4d\n",
    "\n",
    "![problem4d](25fa_exam1_figures/simulationIC.png)\n",
    "\n",
    "Shown above are two simulations with initial conditions $x_0 = (0,0)$ and $x_0 = (-4,4)$. Qualitatively comment on how well the linear approximation of the system describes the nonlinear system's response to a step input for each of these initial conditions. What do you notice about the trajectories over time? Are there regions where the linear system better approximates the nonlinear system ? Why do you think you observe this behavior? "
   ]
  },
  {
   "cell_type": "markdown",
   "id": "6f4b5930-8718-48e0-a6c6-764757dc2105",
   "metadata": {},
   "source": [
    "# problem 5 - stability criteria (8 points)\n",
    "\n",
    "Consider the following state-space system with no input ($u=0$): \n",
    "$$ \\dot{x} = Ax$$\n",
    "where $x = (x_1,x_2,x_3) \\in \\mathbb{R}^3$ and $A \\in \\mathbb{R}^{3 \\times 3}$. In this problem, there are four distinct $A$ matrices that each have different properties. \n",
    "\n",
    "The four plots on the left, labeled $5(a), 5(b), 5(c),$ and $5(d)$ depict the eigenvalues of each $A$ matrix on the complex plane. Choose the plot from the right, labeled $A, B, C,$ and $D$, that shows the homogeneous response of the system's states to a random set of initial conditions. Explain your rationale for each choice. Is the system stable or unstable? \n",
    "\n",
    "![problem5](25fa_exam1_figures/eigenvalues.png)\n",
    "\n",
    "**Note:** To earn full credit for each subproblem, you need to indicate which homogeneous response $A-D$ corresponds with each set of eigenvalues $(5a)-(5d)$, state if the system is stable or unstable, and justify your answer in words. \n"
   ]
  },
  {
   "cell_type": "markdown",
   "id": "6cdedb7d-7953-4cb2-a0f7-2c285473a4ce",
   "metadata": {},
   "source": [
    "# problem 6 - feedback control and stability (6 points)\n",
    "\n",
    "![problem6](25fa_exam1_figures/feedback.png)\n",
    "\n",
    "Consider the feedback control system pictured above, with controller $C(s)=K$, where $K \\in \\mathbb{R}$, and process $P(s)$. Signal $r$ is the reference, $e$ is the error, $u$ is the control signal, and $y$ is the output. For this feedback system, you (correctly) derive the closed-loop transfer function to be: \n",
    "$$ G_{yr} = \\cfrac{PC}{1+PC} $$\n"
   ]
  },
  {
   "cell_type": "markdown",
   "id": "a15e39b8-a487-4bc9-b184-6eb2595b6df4",
   "metadata": {},
   "source": [
    "## subproblem 6a\n",
    "For this subproblem, we define $P(s) = \\cfrac{1}{s(s+4)(s+6)}$\n",
    "\n",
    "Write down the characteristic polynomial $a(s)$ for the **closed-loop system**. You answer should include the constant $K$.  "
   ]
  },
  {
   "cell_type": "markdown",
   "id": "ba49796c-e495-464d-8d27-089584744080",
   "metadata": {},
   "source": [
    "## subproblem 6b\n",
    "For this subproblem, we define $P(s) = \\cfrac{s+1}{s(s+2)(s+3)}$\n",
    "\n",
    "With this definition, the closed loop transfer function evaluates to: \n",
    "$ G_{yr} = \\cfrac{Ks + K}{s^3 + 5s^2 + (6+K)s + K} $\n",
    "\n",
    "Write down the differential equation that describes this closed-loop system. Your answer should include the constant $K$. \n"
   ]
  },
  {
   "cell_type": "markdown",
   "id": "8bb438f9-4f19-4fbc-acb9-cad853f02db9",
   "metadata": {},
   "source": [
    "## subproblem 6c\n",
    "For this subproblem, we define $P(s) = \\cfrac{1}{(s+2)(s+3)(s+5)}$\n",
    "\n",
    "With this definition, the closed loop transfer function evaluates to: \n",
    "$G_{yr} = \\cfrac{K}{s^3 + 10s^2 + 31s + (30+K)}$\n",
    "\n",
    "What range of $K \\in \\mathbb{R}$ will ensure the closed-loop system is stable? "
   ]
  }
 ],
 "metadata": {
  "kernelspec": {
   "display_name": "Python 3 (ipykernel)",
   "language": "python",
   "name": "python3"
  },
  "language_info": {
   "codemirror_mode": {
    "name": "ipython",
    "version": 3
   },
   "file_extension": ".py",
   "mimetype": "text/x-python",
   "name": "python",
   "nbconvert_exporter": "python",
   "pygments_lexer": "ipython3",
   "version": "3.11.9"
  }
 },
 "nbformat": 4,
 "nbformat_minor": 5
}
